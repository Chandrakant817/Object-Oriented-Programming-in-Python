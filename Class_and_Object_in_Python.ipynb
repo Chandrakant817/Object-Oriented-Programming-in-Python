{
  "nbformat": 4,
  "nbformat_minor": 0,
  "metadata": {
    "colab": {
      "provenance": []
    },
    "kernelspec": {
      "name": "python3",
      "display_name": "Python 3"
    },
    "language_info": {
      "name": "python"
    }
  },
  "cells": [
    {
      "cell_type": "markdown",
      "source": [
        "# **Class and Object**"
      ],
      "metadata": {
        "id": "I5zCvtqa5cjD"
      }
    },
    {
      "cell_type": "markdown",
      "source": [
        "> Class : Design or Blueprint\n",
        "\n",
        "> Object: Instance [real world stuff]"
      ],
      "metadata": {
        "id": "bm2dz09B5jQ0"
      }
    },
    {
      "cell_type": "markdown",
      "source": [
        "Self: Implicite Instance\n",
        " > Self is a pointer or reference"
      ],
      "metadata": {
        "id": "Aze77LWl6t1W"
      }
    },
    {
      "cell_type": "markdown",
      "source": [
        "### **1st Example**"
      ],
      "metadata": {
        "id": "vvfQTpf-Ak-D"
      }
    },
    {
      "cell_type": "code",
      "execution_count": 7,
      "metadata": {
        "id": "rYbcZnRVGEVw",
        "colab": {
          "base_uri": "https://localhost:8080/"
        },
        "outputId": "ade77319-4b96-41e5-9d93-b80c86c57bf8"
      },
      "outputs": [
        {
          "output_type": "stream",
          "name": "stdout",
          "text": [
            "i7,16gb,1TB\n"
          ]
        }
      ],
      "source": [
        "#define the class \n",
        "class computer:\n",
        "\n",
        "  def config(self):\n",
        "    print(\"i7,16gb,1TB\")\n",
        "\n",
        "# creating object for class   \n",
        "c1 = computer()\n",
        "c1.config()"
      ]
    },
    {
      "cell_type": "markdown",
      "source": [
        "### **2nd Example**"
      ],
      "metadata": {
        "id": "XTrUh8eNAtgx"
      }
    },
    {
      "cell_type": "code",
      "source": [
        "#define the class \n",
        "class Person:\n",
        "  \n",
        "  def pass_name(self,name):\n",
        "    self.name = name\n",
        "  \n",
        "  def pass_surname(self,surname):\n",
        "    self.surname = surname\n",
        "  \n",
        "  def pass_yob(self,yob):\n",
        "    self.yob = yob\n",
        "\n",
        "# creating object for class \n",
        "P1 = Person()\n",
        "\n",
        "P1.pass_name(\"Chandrakant\")\n",
        "P1.pass_surname(\"Thakur\")\n",
        "P1.name"
      ],
      "metadata": {
        "colab": {
          "base_uri": "https://localhost:8080/",
          "height": 36
        },
        "id": "UF28gFfd6hVQ",
        "outputId": "b92e68b5-32ec-4123-af51-209730e7729f"
      },
      "execution_count": 26,
      "outputs": [
        {
          "output_type": "execute_result",
          "data": {
            "text/plain": [
              "'Chandrakant'"
            ],
            "application/vnd.google.colaboratory.intrinsic+json": {
              "type": "string"
            }
          },
          "metadata": {},
          "execution_count": 26
        }
      ]
    },
    {
      "cell_type": "markdown",
      "source": [
        " > __init__ is a default method for initialization.\n",
        "\n",
        "\n"
      ],
      "metadata": {
        "id": "4HZXLKr99IZD"
      }
    },
    {
      "cell_type": "markdown",
      "source": [
        "### **3rd Example**"
      ],
      "metadata": {
        "id": "EZ4fPoAcAxVn"
      }
    },
    {
      "cell_type": "code",
      "source": [
        "#define the class \n",
        "class Person:\n",
        "  def __init__(self,name,surname,yob):\n",
        "    self.name = name\n",
        "    self.surname = surname\n",
        "    self.yob = yob\n",
        "\n",
        "# creating object for class   \n",
        "p = Person(\"Chandrakant\",\"Thakur\",2001)"
      ],
      "metadata": {
        "id": "qSc2yyj08qKX"
      },
      "execution_count": 28,
      "outputs": []
    },
    {
      "cell_type": "code",
      "source": [
        "p.name"
      ],
      "metadata": {
        "colab": {
          "base_uri": "https://localhost:8080/",
          "height": 36
        },
        "id": "wTig08wY97oK",
        "outputId": "0c164e54-f124-4f78-afe5-59b4c4a7961f"
      },
      "execution_count": 32,
      "outputs": [
        {
          "output_type": "execute_result",
          "data": {
            "text/plain": [
              "'Chandrakant'"
            ],
            "application/vnd.google.colaboratory.intrinsic+json": {
              "type": "string"
            }
          },
          "metadata": {},
          "execution_count": 32
        }
      ]
    },
    {
      "cell_type": "markdown",
      "source": [
        "### **4th Example**"
      ],
      "metadata": {
        "id": "3lwThzBCAzzs"
      }
    },
    {
      "cell_type": "code",
      "source": [
        "class Person1:\n",
        "  \n",
        "  def __init__(self,name,surname,yob):\n",
        "    self.name1 = name\n",
        "    self.surname1 = surname\n",
        "    self.yob1 = yob\n",
        "  \n",
        "  def test(self,n,m):\n",
        "    return n+m+self.yob1\n",
        "\n",
        "p1 = Person1(\"Chandrakant\",\"Thakur\",2001)"
      ],
      "metadata": {
        "id": "CDYLqBP89-rE"
      },
      "execution_count": 43,
      "outputs": []
    },
    {
      "cell_type": "code",
      "source": [
        "p1.yob1"
      ],
      "metadata": {
        "colab": {
          "base_uri": "https://localhost:8080/"
        },
        "id": "oDHOCBCq_LOz",
        "outputId": "7f276ecf-3a0e-42cd-edc7-8987e361d203"
      },
      "execution_count": 44,
      "outputs": [
        {
          "output_type": "execute_result",
          "data": {
            "text/plain": [
              "2001"
            ]
          },
          "metadata": {},
          "execution_count": 44
        }
      ]
    },
    {
      "cell_type": "code",
      "source": [
        "p1.test(2,3)"
      ],
      "metadata": {
        "colab": {
          "base_uri": "https://localhost:8080/"
        },
        "id": "D0GaBsAD_NGv",
        "outputId": "bc4566ca-42e6-45b6-e313-e3768bda8bff"
      },
      "execution_count": 45,
      "outputs": [
        {
          "output_type": "execute_result",
          "data": {
            "text/plain": [
              "2006"
            ]
          },
          "metadata": {},
          "execution_count": 45
        }
      ]
    },
    {
      "cell_type": "markdown",
      "source": [
        "### **5th Example**"
      ],
      "metadata": {
        "id": "MrouCX0nA2fl"
      }
    },
    {
      "cell_type": "code",
      "source": [
        "class Person:\n",
        "\n",
        "  def __init__(self):\n",
        "    self.name = \"Chandrakant\"\n",
        "    self.surname = \"Thakur\"\n",
        "    self.age = 21\n",
        "  \n",
        "  def take(self):\n",
        "    print(self.name)\n",
        "    print(self.surname)\n",
        "    print(self.age)\n",
        "\n",
        "p = Person()"
      ],
      "metadata": {
        "id": "Df_xsiOk_SXt"
      },
      "execution_count": 51,
      "outputs": []
    },
    {
      "cell_type": "code",
      "source": [
        "p.age"
      ],
      "metadata": {
        "colab": {
          "base_uri": "https://localhost:8080/"
        },
        "id": "Q_nrwHAMAS3M",
        "outputId": "f5dc2040-4d49-4b60-acd4-bb1f42dcd6e6"
      },
      "execution_count": 53,
      "outputs": [
        {
          "output_type": "execute_result",
          "data": {
            "text/plain": [
              "21"
            ]
          },
          "metadata": {},
          "execution_count": 53
        }
      ]
    },
    {
      "cell_type": "markdown",
      "source": [
        "### **6th Example**\n",
        "Taking Input from the User"
      ],
      "metadata": {
        "id": "kYYEuyJ5A44T"
      }
    },
    {
      "cell_type": "code",
      "source": [
        "class Employee:\n",
        "\n",
        "  def __init__(self):\n",
        "    self.Name = input(\"Enter the Employee Name: \")\n",
        "    self.Dept = input(\"Enter the Employee Department: \")\n",
        "    self.Age = int(input(\"Enter the Employee Age: \"))\n",
        "\n",
        "  def display(self):\n",
        "    print(\"Hi You Data is displayed as below\")\n",
        "    print(\"{}\\t {}\\t {}\\t \".format(self.Name,self.Dept,self.Age))  \n",
        "\n",
        "# Itterating 3 times\n",
        "for i in range(1,4):\n",
        "  emp = Employee() # creating object for class\n",
        "  emp.display()\n",
        "  print(\"-\"*50)"
      ],
      "metadata": {
        "colab": {
          "base_uri": "https://localhost:8080/"
        },
        "id": "IgNauZ5HAVdQ",
        "outputId": "9eccf62b-ae6e-4629-a375-155aebd04efa"
      },
      "execution_count": 57,
      "outputs": [
        {
          "output_type": "stream",
          "name": "stdout",
          "text": [
            "Enter the Employee Name: chandra\n",
            "Enter the Employee Department: IT\n",
            "Enter the Employee Age: 21\n",
            "Hi You Data is displayed as below\n",
            "chandra\t IT\t 21\t \n",
            "--------------------------------------------------\n",
            "Enter the Employee Name: chandrakant\n",
            "Enter the Employee Department: cs\n",
            "Enter the Employee Age: 22\n",
            "Hi You Data is displayed as below\n",
            "chandrakant\t cs\t 22\t \n",
            "--------------------------------------------------\n",
            "Enter the Employee Name: chand\n",
            "Enter the Employee Department: EXTC\n",
            "Enter the Employee Age: 23\n",
            "Hi You Data is displayed as below\n",
            "chand\t EXTC\t 23\t \n",
            "--------------------------------------------------\n"
          ]
        }
      ]
    },
    {
      "cell_type": "markdown",
      "source": [
        "# **Types of Variables in Python**"
      ],
      "metadata": {
        "id": "u3R9tbEvESQd"
      }
    },
    {
      "cell_type": "markdown",
      "source": [
        "Two Types of Variables in Python\n",
        "\n",
        "1. Instance Variables\n",
        "2. Class Variables (Static Variables) "
      ],
      "metadata": {
        "id": "7HyGhqa1Eogt"
      }
    },
    {
      "cell_type": "markdown",
      "source": [
        "## **Name Space**"
      ],
      "metadata": {
        "id": "J3Hgf3CXDygF"
      }
    },
    {
      "cell_type": "markdown",
      "source": [
        "Namespace is area where we create and store Object/Variable\n",
        "\n",
        "Two Types of Name Space\n",
        "1. Class Namespace\n",
        "2. Object/Instance Namespace"
      ],
      "metadata": {
        "id": "FaaAOpBPD638"
      }
    },
    {
      "cell_type": "markdown",
      "source": [
        "### **7th Example**"
      ],
      "metadata": {
        "id": "8AQFn1-PG-2G"
      }
    },
    {
      "cell_type": "code",
      "source": [
        "class car:\n",
        "\n",
        "  wheels = 4  # Class Namespace\n",
        "\n",
        "  def __init__(self):\n",
        "    self.mil = 10         ## Instance Namespace\n",
        "    self.com = \"Audi\"\n",
        "  \n",
        "c1 = car()\n",
        "c2 = car()\n",
        "\n",
        "c1.mil\n",
        "c1.com\n",
        "\n",
        "c1.mil = 8 # change the value of Mil\n",
        "\n",
        "car.wheels = 5"
      ],
      "metadata": {
        "id": "Q95aEYZgDSUu"
      },
      "execution_count": 76,
      "outputs": []
    },
    {
      "cell_type": "code",
      "source": [
        "print(c1.mil,c1.com,c1.wheels)\n",
        "print(c2.mil,c2.com,c2.wheels)"
      ],
      "metadata": {
        "colab": {
          "base_uri": "https://localhost:8080/"
        },
        "id": "ETzg2RfRFS3b",
        "outputId": "d9991f38-3010-42ba-bf8f-0b895338d359"
      },
      "execution_count": 78,
      "outputs": [
        {
          "output_type": "stream",
          "name": "stdout",
          "text": [
            "8 Audi 5\n",
            "10 Audi 5\n"
          ]
        }
      ]
    },
    {
      "cell_type": "markdown",
      "source": [
        "### **8th Example**"
      ],
      "metadata": {
        "id": "HM7ojjuxJdSY"
      }
    },
    {
      "cell_type": "code",
      "source": [
        "class codelearning:\n",
        "\n",
        "  skill = \"Programming\"\n",
        "\n",
        "  def __init__(self,name,language):\n",
        "    self.name = name\n",
        "    self.language = language\n",
        "\n",
        "  def display(self):\n",
        "    print(\"Name is {} and Surname is {} \".format(self.name,self.language,__class__.skill))  #Calling the Global Variable here --> __class__.skill"
      ],
      "metadata": {
        "id": "jry-PUMzFnWx"
      },
      "execution_count": 85,
      "outputs": []
    },
    {
      "cell_type": "code",
      "source": [
        "c1 = codelearning(\"Chandrakant\",\"Thakur\")\n",
        "c1.display()"
      ],
      "metadata": {
        "colab": {
          "base_uri": "https://localhost:8080/"
        },
        "id": "K_bpduSHI9F9",
        "outputId": "43330b7a-82cd-427e-e4ae-49648ccd52c5"
      },
      "execution_count": 86,
      "outputs": [
        {
          "output_type": "stream",
          "name": "stdout",
          "text": [
            "Name is Chandrakant and Surname is Thakur \n"
          ]
        }
      ]
    }
  ]
}