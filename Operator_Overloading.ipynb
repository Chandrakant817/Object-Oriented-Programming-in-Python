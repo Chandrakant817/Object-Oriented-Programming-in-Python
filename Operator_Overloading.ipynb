{
  "nbformat": 4,
  "nbformat_minor": 0,
  "metadata": {
    "colab": {
      "provenance": []
    },
    "kernelspec": {
      "name": "python3",
      "display_name": "Python 3"
    },
    "language_info": {
      "name": "python"
    }
  },
  "cells": [
    {
      "cell_type": "markdown",
      "source": [
        "# **Operator Overloading in Python**"
      ],
      "metadata": {
        "id": "hcbfqeTB7SQd"
      }
    },
    {
      "cell_type": "markdown",
      "source": [
        "**Example: 1**"
      ],
      "metadata": {
        "id": "KdAnY-Y781OI"
      }
    },
    {
      "cell_type": "code",
      "execution_count": null,
      "metadata": {
        "id": "viItA3tm7P-i"
      },
      "outputs": [],
      "source": [
        "class multiply:\n",
        "\n",
        "  def __init__(self,a):\n",
        "    self.a = a\n",
        "\n",
        "  def __mul__(self,other):\n",
        "    return self.a + other.a     # Overload a perticular Operator (+ operator)"
      ]
    },
    {
      "cell_type": "code",
      "source": [
        "a1 = multiply(4)\n",
        "a2 = multiply(2)"
      ],
      "metadata": {
        "id": "6RHfb97P8cqB"
      },
      "execution_count": null,
      "outputs": []
    },
    {
      "cell_type": "code",
      "source": [
        "a1*a2"
      ],
      "metadata": {
        "colab": {
          "base_uri": "https://localhost:8080/"
        },
        "id": "--_ev9Cc8nq0",
        "outputId": "02f9fa7b-ca06-4f93-a671-12a52bf072d7"
      },
      "execution_count": null,
      "outputs": [
        {
          "output_type": "execute_result",
          "data": {
            "text/plain": [
              "6"
            ]
          },
          "metadata": {},
          "execution_count": 9
        }
      ]
    },
    {
      "cell_type": "markdown",
      "source": [
        "**Example: 2**"
      ],
      "metadata": {
        "id": "ynlG-gtz85YC"
      }
    },
    {
      "cell_type": "code",
      "source": [
        "class multiply:\n",
        "\n",
        "  def __init__(self,a):\n",
        "    self.a = a\n",
        "\n",
        "  def __mul__(self,other):\n",
        "    return self.a * other.a     "
      ],
      "metadata": {
        "id": "eoWMWjae8rgG"
      },
      "execution_count": 11,
      "outputs": []
    },
    {
      "cell_type": "code",
      "source": [
        "a1 = multiply(4)\n",
        "a2 = multiply(2)"
      ],
      "metadata": {
        "id": "YIRO0Ra4ZPFW"
      },
      "execution_count": 12,
      "outputs": []
    },
    {
      "cell_type": "code",
      "source": [
        "a1*a2"
      ],
      "metadata": {
        "colab": {
          "base_uri": "https://localhost:8080/"
        },
        "id": "qB9S4uyRZWx3",
        "outputId": "ca759c6f-c320-44a7-8443-3e3bc81e8afa"
      },
      "execution_count": 13,
      "outputs": [
        {
          "output_type": "execute_result",
          "data": {
            "text/plain": [
              "8"
            ]
          },
          "metadata": {},
          "execution_count": 13
        }
      ]
    },
    {
      "cell_type": "code",
      "source": [],
      "metadata": {
        "id": "RI9u-ePvZYvb"
      },
      "execution_count": null,
      "outputs": []
    }
  ]
}