{
  "nbformat": 4,
  "nbformat_minor": 0,
  "metadata": {
    "colab": {
      "provenance": []
    },
    "kernelspec": {
      "name": "python3",
      "display_name": "Python 3"
    },
    "language_info": {
      "name": "python"
    }
  },
  "cells": [
    {
      "cell_type": "markdown",
      "source": [
        "# **Encapsulation**"
      ],
      "metadata": {
        "id": "746NxhPxeVBj"
      }
    },
    {
      "cell_type": "markdown",
      "source": [
        "Encapsulation in Python describes the concept of bundling data and methods within a single unit.\n",
        "\n",
        "Using encapsulation, we can hide an object’s internal representation from the outside. This is called information hiding.\n",
        "\n",
        "Also, encapsulation allows us to restrict accessing variables and methods directly and prevent accidental data modification by creating private data members and methods within a class.\n",
        "\n",
        "Encapsulation is a way to can restrict access to methods and variables from outside of class. Whenever we are working with the class and dealing with sensitive data, providing access to all variables used within the class is not a good choice. \n",
        "\n"
      ],
      "metadata": {
        "id": "cGKak2WHeSV7"
      }
    },
    {
      "cell_type": "markdown",
      "source": [
        "#### **We are not goining to access direct implementation or a direct object of a particular class, but Indirectly we are going to access the objects**"
      ],
      "metadata": {
        "id": "dP6QkWo7N9bu"
      }
    },
    {
      "cell_type": "code",
      "execution_count": 26,
      "metadata": {
        "id": "OiDE3h-8eOiL"
      },
      "outputs": [],
      "source": [
        "class tyre:\n",
        "  def __init__(self,branch,belted_bais,opt_pressure):\n",
        "    self.branch = branch\n",
        "    self.belted_bais = belted_bais\n",
        "    self.opt_pressure = opt_pressure\n",
        "\n",
        "  def __str__(self):\n",
        "    return self.branch + self.branch + self.opt_pressure\n",
        "\n",
        "class engine:\n",
        "  def __init__(self,fuel_type,noise_level):\n",
        "    self.fuel_type = fuel_type\n",
        "    self.noise_level = noise_level\n",
        "\n",
        "  def __str__(self):\n",
        "    return self.fuel_type + self.noise_level\n",
        "\n",
        "class body:\n",
        "  def __init__(self,size):\n",
        "    self.size = size\n",
        "\n",
        "  def __str__(self):\n",
        "    return self.size\n",
        "\n",
        "class car:\n",
        "  def __init__(self,company,price,colour):\n",
        "    self.company = company\n",
        "    self.price = price\n",
        "    self.colour = colour\n",
        "  \n",
        "  def __str__(self):\n",
        "    return str(self.company) + str(self.price) + str(self.colour)"
      ]
    },
    {
      "cell_type": "code",
      "source": [
        "# Creating Object for Tyre class\n",
        "t = tyre(\"branch\", \"belted bais\", \"opt pressure\")\n",
        "print(t) "
      ],
      "metadata": {
        "colab": {
          "base_uri": "https://localhost:8080/"
        },
        "id": "c34q4ZAmOKaO",
        "outputId": "0bca37c2-5d60-4ad6-842b-8df2d5277bd0"
      },
      "execution_count": 27,
      "outputs": [
        {
          "output_type": "stream",
          "name": "stdout",
          "text": [
            "branchbranchopt pressure\n"
          ]
        }
      ]
    },
    {
      "cell_type": "code",
      "source": [
        "# Creating Object for Engine class\n",
        "e = engine(\"petrol\",\"Medium\")\n",
        "print(e)"
      ],
      "metadata": {
        "colab": {
          "base_uri": "https://localhost:8080/"
        },
        "id": "nWkG0zZkOWmV",
        "outputId": "a60bae7c-b994-468f-bbf7-375433ac201f"
      },
      "execution_count": 28,
      "outputs": [
        {
          "output_type": "stream",
          "name": "stdout",
          "text": [
            "petrolMedium\n"
          ]
        }
      ]
    },
    {
      "cell_type": "code",
      "source": [
        "# Creating Object for Body class\n",
        "b = body(\"Medium in size\")\n",
        "print(b)"
      ],
      "metadata": {
        "colab": {
          "base_uri": "https://localhost:8080/"
        },
        "id": "g-QSdZxROoY2",
        "outputId": "def92437-b4dc-448d-a924-220d75742518"
      },
      "execution_count": 29,
      "outputs": [
        {
          "output_type": "stream",
          "name": "stdout",
          "text": [
            "Medium in size\n"
          ]
        }
      ]
    },
    {
      "cell_type": "code",
      "source": [
        "# Creating Object for Car class\n",
        "c = car(\"Audi\",500000,\"Rad\")\n",
        "print(c)"
      ],
      "metadata": {
        "colab": {
          "base_uri": "https://localhost:8080/"
        },
        "id": "FizR1xadOujx",
        "outputId": "3f3598cb-c61f-4356-93e6-bfd343769cd9"
      },
      "execution_count": 30,
      "outputs": [
        {
          "output_type": "stream",
          "name": "stdout",
          "text": [
            "Audi500000Rad\n"
          ]
        }
      ]
    },
    {
      "cell_type": "code",
      "source": [
        "# pass the Object\n",
        "# call indirectly through class\n",
        "\n",
        "c1 = car(t,e,b)\n",
        "print(c1)"
      ],
      "metadata": {
        "colab": {
          "base_uri": "https://localhost:8080/"
        },
        "id": "8P6iJNVhPeE9",
        "outputId": "496a6845-77d4-4f65-9d64-4855042756cf"
      },
      "execution_count": 31,
      "outputs": [
        {
          "output_type": "stream",
          "name": "stdout",
          "text": [
            "branchbranchopt pressurepetrolMediumMedium in size\n"
          ]
        }
      ]
    },
    {
      "cell_type": "code",
      "source": [],
      "metadata": {
        "id": "F3U-JHEKQOPK"
      },
      "execution_count": 31,
      "outputs": []
    }
  ]
}