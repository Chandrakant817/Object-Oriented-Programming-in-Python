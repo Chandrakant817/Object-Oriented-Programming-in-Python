{
  "nbformat": 4,
  "nbformat_minor": 0,
  "metadata": {
    "colab": {
      "provenance": []
    },
    "kernelspec": {
      "name": "python3",
      "display_name": "Python 3"
    },
    "language_info": {
      "name": "python"
    }
  },
  "cells": [
    {
      "cell_type": "markdown",
      "source": [
        "# **Inheritance in Python**"
      ],
      "metadata": {
        "id": "3Q5gTb2EL6WJ"
      }
    },
    {
      "cell_type": "markdown",
      "source": [
        "Inheritance is the capability of one class to derive or inherit the properties from another class. The class that derives properties is called the derived class or child class and the class from which the properties are being derived is called the base class or parent class. The benefits of inheritance are:\n",
        "\n",
        "1. It represents real-world relationships well.\n",
        "2. It provides the reusability of a code. We don’t have to write the same code again and again. Also, it allows us to add more features to a class without modifying it.\n",
        "3. It is transitive in nature, which means that if class B inherits from another class A, then all the subclasses of B would automatically inherit from class A."
      ],
      "metadata": {
        "id": "ExePV69QL_x7"
      }
    },
    {
      "cell_type": "markdown",
      "source": [
        "### Types of Inheritance in OOP\n",
        "\n",
        "Types of Inheritance depend upon the number of child and parent classes involved. There are five types of inheritances:\n",
        "\n",
        "1. Single Inheritance\n",
        "2. Multiple Inheritance\n",
        "3. Multilevel Inheritance\n",
        "4. Hierarchical Inheritance\n",
        "5. Hybrid Inheritance\n",
        "\n",
        "![](https://i.imgur.com/VQ3Xtoy.jpg)\n",
        "\n"
      ],
      "metadata": {
        "id": "_k_QrI7aMEnC"
      }
    },
    {
      "cell_type": "code",
      "source": [],
      "metadata": {
        "id": "QgBf1kssAX7d"
      },
      "execution_count": null,
      "outputs": []
    },
    {
      "cell_type": "markdown",
      "source": [
        "### **1.Singlelevel Inheritance:** \n",
        "\n",
        "Single inheritance enables a derived class to inherit properties from a single parent class, thus enabling code reusability and the addition of new features to existing code."
      ],
      "metadata": {
        "id": "w2mC0KqdMP_c"
      }
    },
    {
      "cell_type": "markdown",
      "source": [
        "#### **1st Example**"
      ],
      "metadata": {
        "id": "LViun6kN8ZfY"
      }
    },
    {
      "cell_type": "code",
      "execution_count": 8,
      "metadata": {
        "id": "ML4jmFhzL1Fr"
      },
      "outputs": [],
      "source": [
        "# Parent Class\n",
        "class Person:\n",
        "  \n",
        "  def __init__(self,name,surname,yob):\n",
        "    self.name = name\n",
        "    self.surname = surname\n",
        "    self.yob = yob\n",
        "\n",
        "# Child Class\n",
        "class Student(Person):\n",
        "\n",
        "  def __init__(self,rollno,collegename,*args):\n",
        "    super(Student,self).__init__(*args)\n",
        "    self.rollno = rollno\n",
        "    self.collegename = collegename"
      ]
    },
    {
      "cell_type": "code",
      "source": [
        "#calling the parent class\n",
        "p1 = Person(\"Chadrakant\",\"Thakur\",2001) #calling the parent class\n",
        "p1.name"
      ],
      "metadata": {
        "id": "XeJjV46OMstX",
        "colab": {
          "base_uri": "https://localhost:8080/",
          "height": 36
        },
        "outputId": "7e4ec475-9f2c-4ecb-e9e1-e850a41de011"
      },
      "execution_count": 13,
      "outputs": [
        {
          "output_type": "execute_result",
          "data": {
            "text/plain": [
              "'Chadrakant'"
            ],
            "application/vnd.google.colaboratory.intrinsic+json": {
              "type": "string"
            }
          },
          "metadata": {},
          "execution_count": 13
        }
      ]
    },
    {
      "cell_type": "code",
      "source": [
        "#calling the Child class\n",
        "s1 = Student(62,\"XIE\",\"Chadrakant\",\"Thakur\",2001)\n",
        "s1.name"
      ],
      "metadata": {
        "colab": {
          "base_uri": "https://localhost:8080/",
          "height": 36
        },
        "id": "VJg3wss88Ycc",
        "outputId": "172b7fa9-9ae8-4752-cfcc-e8a798a9dd7c"
      },
      "execution_count": 12,
      "outputs": [
        {
          "output_type": "execute_result",
          "data": {
            "text/plain": [
              "'Chadrakant'"
            ],
            "application/vnd.google.colaboratory.intrinsic+json": {
              "type": "string"
            }
          },
          "metadata": {},
          "execution_count": 12
        }
      ]
    },
    {
      "cell_type": "markdown",
      "source": [
        "#### **2nd Example**"
      ],
      "metadata": {
        "id": "1T6WQ192-b0x"
      }
    },
    {
      "cell_type": "code",
      "source": [
        "class Person: # Parent Class\n",
        "\n",
        "  def __init__(self,Name,Surname,Y_O_B):\n",
        "    self.name = Name\n",
        "    self.surname = Surname\n",
        "    self.yob = Y_O_B\n",
        "\n",
        "  def age(self,Current_Age):\n",
        "    return Current_Age - self.yob\n",
        "\n",
        "class Student(Person): # Child Class\n",
        "\n",
        "  def __init__(self,Student_ID,*args):\n",
        "    super(Student,self).__init__(*args)\n",
        "    self.studentid = Student_ID"
      ],
      "metadata": {
        "id": "jdRUbz919Xb5"
      },
      "execution_count": 14,
      "outputs": []
    },
    {
      "cell_type": "code",
      "source": [
        "p = Person(\"Chandrakant\",\"Thakur\",2001)\n",
        "p.name"
      ],
      "metadata": {
        "colab": {
          "base_uri": "https://localhost:8080/",
          "height": 36
        },
        "id": "ubWkv7_p-gDv",
        "outputId": "0abe2bb6-a30e-487f-cbc1-172e243bdd0a"
      },
      "execution_count": 15,
      "outputs": [
        {
          "output_type": "execute_result",
          "data": {
            "text/plain": [
              "'Chandrakant'"
            ],
            "application/vnd.google.colaboratory.intrinsic+json": {
              "type": "string"
            }
          },
          "metadata": {},
          "execution_count": 15
        }
      ]
    },
    {
      "cell_type": "code",
      "source": [
        "s = Student(\"XIE181956\",\"Chandrakant\",\"Thakur\",2001)\n",
        "s.studentid"
      ],
      "metadata": {
        "colab": {
          "base_uri": "https://localhost:8080/",
          "height": 36
        },
        "id": "ZZDgfkUX-gBQ",
        "outputId": "f7fdfe35-ab8e-43cd-f47b-2ba015885c93"
      },
      "execution_count": 17,
      "outputs": [
        {
          "output_type": "execute_result",
          "data": {
            "text/plain": [
              "'XIE181956'"
            ],
            "application/vnd.google.colaboratory.intrinsic+json": {
              "type": "string"
            }
          },
          "metadata": {},
          "execution_count": 17
        }
      ]
    },
    {
      "cell_type": "markdown",
      "source": [
        "### **2.Multilevel Inheritance:**\n",
        "\n",
        "In multilevel inheritance, the transfer of the properties of characteristics is done to more than one class hierarchically. To get a better visualization we can consider it as an ancestor to grandchildren relation or a root to leaf in a tree with more than one level."
      ],
      "metadata": {
        "id": "eeskHy9LMh72"
      }
    },
    {
      "cell_type": "markdown",
      "source": [
        "#### **1st Example**"
      ],
      "metadata": {
        "id": "524ImHwzLQVk"
      }
    },
    {
      "cell_type": "code",
      "source": [
        "# class 1\n",
        "class p1:\n",
        "  def __init__(self,a,b):\n",
        "    self.a = a\n",
        "    self.b = b\n",
        "\n",
        "  def func_1(self):\n",
        "    return \"This is return from P1 method\"\n",
        "\n",
        "# Class 2\n",
        "class p2(p1):\n",
        "  def __init__(self,*args):\n",
        "    pass\n",
        "\n",
        "  def func_2(self):\n",
        "    return \"This is return from P2 method\"\n",
        "\n",
        "# Class 3\n",
        "class p3(p2):\n",
        "  def __init__(self):\n",
        "    pass\n",
        "\n",
        "  def func_3(self):\n",
        "    return \"This is Function from Child Class\"\n",
        "\n",
        "Child_object = p3()"
      ],
      "metadata": {
        "id": "-sEc_Q1GMsHK"
      },
      "execution_count": 43,
      "outputs": []
    },
    {
      "cell_type": "code",
      "source": [
        "# calling class_1 (p1) from class (p3) \n",
        "Child_object.func_1()"
      ],
      "metadata": {
        "colab": {
          "base_uri": "https://localhost:8080/",
          "height": 36
        },
        "id": "Fv576OdvIssR",
        "outputId": "1aa7c7d4-36fe-4b22-c0c1-e5e48e227429"
      },
      "execution_count": 44,
      "outputs": [
        {
          "output_type": "execute_result",
          "data": {
            "text/plain": [
              "'This is return from P1 method'"
            ],
            "application/vnd.google.colaboratory.intrinsic+json": {
              "type": "string"
            }
          },
          "metadata": {},
          "execution_count": 44
        }
      ]
    },
    {
      "cell_type": "code",
      "source": [
        "# calling class_2 (p2) from class (p3) \n",
        "Child_object.func_2()"
      ],
      "metadata": {
        "id": "8CTvmLHhMtLb",
        "colab": {
          "base_uri": "https://localhost:8080/",
          "height": 36
        },
        "outputId": "e1a85a7a-1da7-47fe-c3fb-39fac860bad4"
      },
      "execution_count": 45,
      "outputs": [
        {
          "output_type": "execute_result",
          "data": {
            "text/plain": [
              "'This is return from P2 method'"
            ],
            "application/vnd.google.colaboratory.intrinsic+json": {
              "type": "string"
            }
          },
          "metadata": {},
          "execution_count": 45
        }
      ]
    },
    {
      "cell_type": "markdown",
      "source": [
        "#### **2nd Example**"
      ],
      "metadata": {
        "id": "8ivQogv6LUN4"
      }
    },
    {
      "cell_type": "code",
      "source": [
        "class Grandfather:\n",
        "\tdef __init__(self, grandfathername):\n",
        "\t\tself.grandfathername = grandfathername\n",
        "\n",
        "class Father(Grandfather):\n",
        "\tdef __init__(self, fathername, grandfathername):\n",
        "\t\tself.fathername = fathername\n",
        "\t\tGrandfather.__init__(self, grandfathername)\n",
        "\n",
        "\n",
        "class Son(Father):\n",
        "\tdef __init__(self, sonname, fathername, grandfathername):\n",
        "\t\tself.sonname = sonname\n",
        "\t\tFather.__init__(self, fathername, grandfathername)\n",
        "\n",
        "\tdef print_name(self):\n",
        "\t\tprint('Grandfather name :', self.grandfathername)\n",
        "\t\tprint(\"Father name :\", self.fathername)\n",
        "\t\tprint(\"Son name :\", self.sonname)\n",
        "\n",
        "\n",
        "s1 = Son('Neil', 'Nitin', 'Mukesh')\n",
        "print(s1.grandfathername)\n",
        "s1.print_name()\n"
      ],
      "metadata": {
        "colab": {
          "base_uri": "https://localhost:8080/"
        },
        "id": "8uSsnp_GK11P",
        "outputId": "60951de5-5ba2-4e91-961a-940708d9d49c"
      },
      "execution_count": 51,
      "outputs": [
        {
          "output_type": "stream",
          "name": "stdout",
          "text": [
            "Mukesh\n",
            "Grandfather name : Mukesh\n",
            "Father name : Nitin\n",
            "Son name : Neil\n"
          ]
        }
      ]
    },
    {
      "cell_type": "code",
      "source": [],
      "metadata": {
        "id": "TAk4FzXsScve"
      },
      "execution_count": null,
      "outputs": []
    },
    {
      "cell_type": "markdown",
      "source": [
        "### **3.Multiple Inheritance:**\n",
        "This inheritance enables a child class to inherit from more than one parent class. This type of inheritance is not supported by java classes, but python does support this kind of inheritance. It has a massive advantage if we have a requirement of gathering multiple characteristics from different classes."
      ],
      "metadata": {
        "id": "Azqpb7j0MZyi"
      }
    },
    {
      "cell_type": "markdown",
      "source": [
        "#### **1st Example**"
      ],
      "metadata": {
        "id": "fomr0rK0FORu"
      }
    },
    {
      "cell_type": "code",
      "source": [
        "# 1st Class\n",
        "class test:\n",
        "  def __init__(self,a,b):\n",
        "    self.a = a\n",
        "    self.b = b\n",
        "\n",
        "# 2nd Class\n",
        "class test1:\n",
        "  def __init__(self,c,d):\n",
        "    self.c = c\n",
        "    self.d = d\n",
        "\n",
        "# Inherete the property of test and test1\n",
        "\n",
        "class child(test,test1):\n",
        "  def __init(self,*args):\n",
        "    test.__init__(self,*args)\n",
        "    test1.__init__(self,*args)\n",
        "\n",
        "  def func_child(self):\n",
        "    print(self.a,self.c)"
      ],
      "metadata": {
        "id": "ZRid7_HYMcZj"
      },
      "execution_count": 38,
      "outputs": []
    },
    {
      "cell_type": "code",
      "source": [
        "t1 = test(2,3)\n",
        "t1.a"
      ],
      "metadata": {
        "id": "R_npbWvoMuF_",
        "colab": {
          "base_uri": "https://localhost:8080/"
        },
        "outputId": "f0acd787-5793-4c6d-d67c-716c0ba9c329"
      },
      "execution_count": 39,
      "outputs": [
        {
          "output_type": "execute_result",
          "data": {
            "text/plain": [
              "2"
            ]
          },
          "metadata": {},
          "execution_count": 39
        }
      ]
    },
    {
      "cell_type": "code",
      "source": [
        "t2 = test1(4,5)\n",
        "t2.c"
      ],
      "metadata": {
        "colab": {
          "base_uri": "https://localhost:8080/"
        },
        "id": "5uoQAHtNCbXw",
        "outputId": "4b67e75a-87ec-4efa-9478-192f57903d15"
      },
      "execution_count": 40,
      "outputs": [
        {
          "output_type": "execute_result",
          "data": {
            "text/plain": [
              "4"
            ]
          },
          "metadata": {},
          "execution_count": 40
        }
      ]
    },
    {
      "cell_type": "code",
      "source": [
        "# calling test class data from child class\n",
        "child1 = child(2,4)\n",
        "child1.a "
      ],
      "metadata": {
        "colab": {
          "base_uri": "https://localhost:8080/"
        },
        "id": "D218NAs4CbVA",
        "outputId": "40eacfda-259e-4daa-9d6a-b58060df6b22"
      },
      "execution_count": 41,
      "outputs": [
        {
          "output_type": "execute_result",
          "data": {
            "text/plain": [
              "2"
            ]
          },
          "metadata": {},
          "execution_count": 41
        }
      ]
    },
    {
      "cell_type": "markdown",
      "source": [
        "#### **2nd Example**"
      ],
      "metadata": {
        "id": "_5ADZk6HFJjw"
      }
    },
    {
      "cell_type": "code",
      "source": [
        "# Parent class1\n",
        "class Mother:\n",
        "  mothername = \" \"\n",
        "  def mother(self):\n",
        "    print(self.mothername)\n",
        "\n",
        "# Parent class2\n",
        "class Father:\n",
        "  fathername = \" \"\n",
        "  def father(self):\n",
        "    print(self.fathername)\n",
        "\n",
        "# Child Class\n",
        "class Son(Mother,Father):\n",
        "  def parents(self):\n",
        "    print(\"Father Name: \", self.fathername)\n",
        "    print(\"Mother Name: \",self.mothername)\n",
        "\n",
        "s1 = Son()\n",
        "s1.fathername = \"Binod\"\n",
        "s1.mothername = \"Ruka\"\n",
        "s1.parents()\n"
      ],
      "metadata": {
        "colab": {
          "base_uri": "https://localhost:8080/"
        },
        "id": "mMlReeI5C7w3",
        "outputId": "4f085b0a-3e57-4058-9d4e-6f9979d2e124"
      },
      "execution_count": 37,
      "outputs": [
        {
          "output_type": "stream",
          "name": "stdout",
          "text": [
            "Father Name:  Binod\n",
            "Mother Name:  Ruka\n"
          ]
        }
      ]
    },
    {
      "cell_type": "code",
      "source": [],
      "metadata": {
        "id": "j2mrLcdHE0X9"
      },
      "execution_count": null,
      "outputs": []
    },
    {
      "cell_type": "markdown",
      "source": [
        "### **4.Hierarchical Inheritance:**\n",
        "\n",
        "This inheritance allows a class to host as a parent class for more than one child class or subclass. This provides a benefit of sharing the functioning of methods with multiple child classes, hence avoiding code duplication."
      ],
      "metadata": {
        "id": "UGY6DWiDMyhE"
      }
    },
    {
      "cell_type": "code",
      "source": [
        "class Parent:\n",
        "\tdef func1(self):\n",
        "\t\tprint(\"This function is in parent class.\")\n",
        "\n",
        "\n",
        "class Child1(Parent):\n",
        "\tdef func2(self):\n",
        "\t\tprint(\"This function is in child 1.\")\n",
        "\n",
        "\n",
        "class Child2(Parent):\n",
        "\tdef func3(self):\n",
        "\t\tprint(\"This function is in child 2.\")\n",
        "\n",
        "object1 = Child1()\n",
        "object2 = Child2()\n",
        "\n",
        "object1.func1()\n",
        "object1.func2()\n",
        "object2.func1()\n",
        "object2.func3()\n"
      ],
      "metadata": {
        "id": "fbLjRiefNSOz",
        "colab": {
          "base_uri": "https://localhost:8080/"
        },
        "outputId": "466c7c15-c742-4d04-dc2f-de4f3b89add8"
      },
      "execution_count": 53,
      "outputs": [
        {
          "output_type": "stream",
          "name": "stdout",
          "text": [
            "This function is in parent class.\n",
            "This function is in child 1.\n",
            "This function is in parent class.\n",
            "This function is in child 2.\n"
          ]
        }
      ]
    },
    {
      "cell_type": "code",
      "source": [],
      "metadata": {
        "id": "R7YEXg3pNfvU"
      },
      "execution_count": null,
      "outputs": []
    },
    {
      "cell_type": "markdown",
      "source": [
        "### **5.Hybrid Inheritance:**\n",
        "\n",
        "An inheritance is said hybrid inheritance if more than one type of inheritance is implemented in the same code. This feature enables the user to utilize the feature of inheritance at its best. This satisfies the requirement of implementing a code that needs multiple inheritances in implementation."
      ],
      "metadata": {
        "id": "UNoJX43BNSpV"
      }
    },
    {
      "cell_type": "code",
      "source": [
        "class School:\n",
        "\tdef func1(self):\n",
        "\t\tprint(\"This function is in school.\")\n",
        "\n",
        "class Student1(School):\n",
        "\tdef func2(self):\n",
        "\t\tprint(\"This function is in student 1. \")\n",
        "\n",
        "class Student2(School):\n",
        "\tdef func3(self):\n",
        "\t\tprint(\"This function is in student 2.\")\n",
        "\n",
        "class Student3(Student1, School):\n",
        "\tdef func4(self):\n",
        "\t\tprint(\"This function is in student 3.\")\n",
        "\n",
        "\n",
        "object = Student3()\n",
        "object.func1()\n",
        "object.func2()\n"
      ],
      "metadata": {
        "id": "R4j2H0AjNSGL",
        "colab": {
          "base_uri": "https://localhost:8080/"
        },
        "outputId": "cf88cdea-2e11-4c14-cbeb-48c1e7120a1c"
      },
      "execution_count": 54,
      "outputs": [
        {
          "output_type": "stream",
          "name": "stdout",
          "text": [
            "This function is in school.\n",
            "This function is in student 1. \n"
          ]
        }
      ]
    },
    {
      "cell_type": "code",
      "source": [],
      "metadata": {
        "id": "EgLESN1FNgK7"
      },
      "execution_count": null,
      "outputs": []
    }
  ]
}