{
  "nbformat": 4,
  "nbformat_minor": 0,
  "metadata": {
    "colab": {
      "provenance": []
    },
    "kernelspec": {
      "name": "python3",
      "display_name": "Python 3"
    },
    "language_info": {
      "name": "python"
    }
  },
  "cells": [
    {
      "cell_type": "markdown",
      "source": [
        "# **Method Overriding in Python**"
      ],
      "metadata": {
        "id": "iU3nP5YXXIV9"
      }
    },
    {
      "cell_type": "markdown",
      "source": [
        "**Same Method name in different Class**"
      ],
      "metadata": {
        "id": "p3lgLa9xXRGy"
      }
    },
    {
      "cell_type": "markdown",
      "source": [
        "#### **1st Example**"
      ],
      "metadata": {
        "id": "CuIhfp9WY_Qk"
      }
    },
    {
      "cell_type": "code",
      "execution_count": 1,
      "metadata": {
        "id": "msuIQrAAWyjR"
      },
      "outputs": [],
      "source": [
        "class rect_area:\n",
        "  def __init__(self,l,b):\n",
        "    self.l = l\n",
        "    self.b = b\n",
        "\n",
        "  def getArea(self):\n",
        "    return self.l*self.b\n",
        "\n",
        "class sqr_area:\n",
        "  def __init__(self,side):\n",
        "    self.side = side\n",
        "\n",
        "  def getArea(self):\n",
        "    return self.side*self.side"
      ]
    },
    {
      "cell_type": "code",
      "source": [
        "# for rest_area\n",
        "r1 = rect_area(2,4)\n",
        "r1.getArea()"
      ],
      "metadata": {
        "colab": {
          "base_uri": "https://localhost:8080/"
        },
        "id": "Hh0W7PnLYTID",
        "outputId": "25f1ee24-cd87-4a66-95bd-0b27997f8709"
      },
      "execution_count": 4,
      "outputs": [
        {
          "output_type": "execute_result",
          "data": {
            "text/plain": [
              "8"
            ]
          },
          "metadata": {},
          "execution_count": 4
        }
      ]
    },
    {
      "cell_type": "code",
      "source": [
        "# for sqr_area\n",
        "s1 = sqr_area(2)\n",
        "s1.getArea()"
      ],
      "metadata": {
        "colab": {
          "base_uri": "https://localhost:8080/"
        },
        "id": "TPqnUZYCYbOe",
        "outputId": "177c668e-5afd-42d6-8546-9d25afd18c7c"
      },
      "execution_count": 5,
      "outputs": [
        {
          "output_type": "execute_result",
          "data": {
            "text/plain": [
              "4"
            ]
          },
          "metadata": {},
          "execution_count": 5
        }
      ]
    },
    {
      "cell_type": "markdown",
      "source": [
        "#### **2nd Example**"
      ],
      "metadata": {
        "id": "m7Z_FndCZDwP"
      }
    },
    {
      "cell_type": "code",
      "source": [
        "class person:\n",
        "  def __init__(self,name,surname,yob):\n",
        "    self.name = name\n",
        "    self.surname = surname\n",
        "    self.yob = yob\n",
        "  \n",
        "  def age(self,current_age):\n",
        "    return current_age - self.yob\n",
        "  \n",
        "  def __str__(self):\n",
        "    return self.name\n",
        "\n",
        "\n",
        "class student(person):\n",
        "  def __init__(self,student_id,*args):\n",
        "    super(student,self).__init__(*args)\n",
        "    self.student_id = student_id\n",
        "\n",
        "  def __str__(self):\n",
        "    return self.name + self.student_id\n",
        "    #return super(student,self).__str__() + str(self.student_id)"
      ],
      "metadata": {
        "id": "JENs1cbNZGYQ"
      },
      "execution_count": 14,
      "outputs": []
    },
    {
      "cell_type": "code",
      "source": [
        "# calling Person Class\n",
        "p1 = person(\"Chandrakant\",\"Thakur\",2001)\n",
        "print(p1)"
      ],
      "metadata": {
        "colab": {
          "base_uri": "https://localhost:8080/"
        },
        "id": "6GtbxFY0bGRK",
        "outputId": "6dc48fa4-0586-47ea-adc1-de06bb29600d"
      },
      "execution_count": 11,
      "outputs": [
        {
          "output_type": "stream",
          "name": "stdout",
          "text": [
            "Chandrakant\n"
          ]
        }
      ]
    },
    {
      "cell_type": "code",
      "source": [
        "# calling Student Class\n",
        "s1 = student(\"XIE123\",\"Chandrakant\",\"Thakur\",2001)\n",
        "print(s1)"
      ],
      "metadata": {
        "colab": {
          "base_uri": "https://localhost:8080/"
        },
        "id": "BIlWxvk3bPOu",
        "outputId": "155489ed-1261-4252-f297-72aa078b5681"
      },
      "execution_count": 10,
      "outputs": [
        {
          "output_type": "stream",
          "name": "stdout",
          "text": [
            "ChandrakantXIE123\n"
          ]
        }
      ]
    },
    {
      "cell_type": "code",
      "source": [],
      "metadata": {
        "id": "6ZT-ScpFblFA"
      },
      "execution_count": null,
      "outputs": []
    }
  ]
}