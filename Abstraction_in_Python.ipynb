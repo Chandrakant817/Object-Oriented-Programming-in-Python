{
  "nbformat": 4,
  "nbformat_minor": 0,
  "metadata": {
    "colab": {
      "provenance": []
    },
    "kernelspec": {
      "name": "python3",
      "display_name": "Python 3"
    },
    "language_info": {
      "name": "python"
    }
  },
  "cells": [
    {
      "cell_type": "markdown",
      "source": [
        "# **Abstraction in Python**"
      ],
      "metadata": {
        "id": "HcCgR6g9fPJ3"
      }
    },
    {
      "cell_type": "markdown",
      "source": [
        "**All about Abstraction in Python**\n",
        "\n",
        "---\n",
        "\n",
        "\n",
        "\n",
        "**1. Public:** Anyone will be able to access any of your variables or any of your methods, inside the class outside the class sub class.\n",
        "\n",
        "**2. Protected:** It means that within a class and subclass you will be able to access your dataset, but outside the package will not be able to access it.\n",
        "\n",
        "**3.Private:** Just within a class we will be able to access it."
      ],
      "metadata": {
        "id": "pfS96qh5YYVj"
      }
    },
    {
      "cell_type": "markdown",
      "source": [
        "### **1. Public**"
      ],
      "metadata": {
        "id": "LimWkQvNmEuT"
      }
    },
    {
      "cell_type": "code",
      "execution_count": 4,
      "metadata": {
        "id": "YjehjfrZe77C"
      },
      "outputs": [],
      "source": [
        "class person:\n",
        "  \n",
        "  def __init__(self,name,surname,yob):\n",
        "    self.name1 = name\n",
        "    self.surname1 = surname\n",
        "    self.yob1 = yob\n",
        "  \n",
        "  def test(self,n,m):\n",
        "    return n+m+self.yob1\n",
        "\n",
        "p1 = person(\"Chandrakat\",\"Thakur\",2001)"
      ]
    },
    {
      "cell_type": "code",
      "source": [
        "p1.name1"
      ],
      "metadata": {
        "colab": {
          "base_uri": "https://localhost:8080/",
          "height": 36
        },
        "id": "mxekSa1w2imU",
        "outputId": "6b5e2ad9-0a45-46c3-801d-e29742ee7c1d"
      },
      "execution_count": 6,
      "outputs": [
        {
          "output_type": "execute_result",
          "data": {
            "text/plain": [
              "'Chandrakat'"
            ],
            "application/vnd.google.colaboratory.intrinsic+json": {
              "type": "string"
            }
          },
          "metadata": {},
          "execution_count": 6
        }
      ]
    },
    {
      "cell_type": "code",
      "source": [
        "p1.test(1,3) ##1+3+2001"
      ],
      "metadata": {
        "colab": {
          "base_uri": "https://localhost:8080/"
        },
        "id": "H4Cug48GmHJg",
        "outputId": "6c837603-ae5c-4385-e896-e19ff251f578"
      },
      "execution_count": 5,
      "outputs": [
        {
          "output_type": "execute_result",
          "data": {
            "text/plain": [
              "2005"
            ]
          },
          "metadata": {},
          "execution_count": 5
        }
      ]
    },
    {
      "cell_type": "markdown",
      "source": [
        "### **2. Protected**\n",
        "\n",
        "**We use single underscore _ for Protected**"
      ],
      "metadata": {
        "id": "-cA5_bs9mHiP"
      }
    },
    {
      "cell_type": "code",
      "source": [
        "class Person:\n",
        "\n",
        "  def __init__(self,name,surname,yob):\n",
        "    self._name = name\n",
        "    self._surname = surname\n",
        "    self._yob = yob\n",
        "  \n",
        "  def test(self,n,m):\n",
        "    return n+m+self._yob\n",
        "\n",
        "p = Person(\"Chandrakant\",\"Thakur\",2001)"
      ],
      "metadata": {
        "id": "PGQEgBupmJ8I"
      },
      "execution_count": 13,
      "outputs": []
    },
    {
      "cell_type": "code",
      "source": [
        "p._name"
      ],
      "metadata": {
        "colab": {
          "base_uri": "https://localhost:8080/",
          "height": 36
        },
        "id": "s30M_qKkmKWY",
        "outputId": "595d205e-4925-4498-c572-2f7334787056"
      },
      "execution_count": 15,
      "outputs": [
        {
          "output_type": "execute_result",
          "data": {
            "text/plain": [
              "'Chandrakant'"
            ],
            "application/vnd.google.colaboratory.intrinsic+json": {
              "type": "string"
            }
          },
          "metadata": {},
          "execution_count": 15
        }
      ]
    },
    {
      "cell_type": "code",
      "source": [
        "p._surname"
      ],
      "metadata": {
        "colab": {
          "base_uri": "https://localhost:8080/",
          "height": 36
        },
        "id": "vOZyr1Ft3o4Q",
        "outputId": "61b442a8-9212-4f8f-f5a9-4d1aa0375b3f"
      },
      "execution_count": 17,
      "outputs": [
        {
          "output_type": "execute_result",
          "data": {
            "text/plain": [
              "'Thakur'"
            ],
            "application/vnd.google.colaboratory.intrinsic+json": {
              "type": "string"
            }
          },
          "metadata": {},
          "execution_count": 17
        }
      ]
    },
    {
      "cell_type": "code",
      "source": [
        "p.test(2,3)"
      ],
      "metadata": {
        "colab": {
          "base_uri": "https://localhost:8080/"
        },
        "id": "cTuSj0q53TzE",
        "outputId": "22a5900f-7646-4ce9-9c53-3431ab818c73"
      },
      "execution_count": 16,
      "outputs": [
        {
          "output_type": "execute_result",
          "data": {
            "text/plain": [
              "2006"
            ]
          },
          "metadata": {},
          "execution_count": 16
        }
      ]
    },
    {
      "cell_type": "markdown",
      "source": [
        "### **3. Private**\n",
        "\n",
        "**We use Double underscore __ for Protected**"
      ],
      "metadata": {
        "id": "vSQiyD_2mKmM"
      }
    },
    {
      "cell_type": "code",
      "source": [
        "class person:\n",
        "\n",
        "  def __init__(self,name,surname,yob):\n",
        "    self.__name = name\n",
        "    self.__surname = surname\n",
        "    self.__yob = yob\n",
        "  \n",
        "  def display(self,n,m):\n",
        "    return n+m+self.__yob\n",
        "\n",
        "p1 = person(\"Chandrakat\",\"Thakur\",2001)"
      ],
      "metadata": {
        "id": "bAo3ciizmMdW"
      },
      "execution_count": 18,
      "outputs": []
    },
    {
      "cell_type": "code",
      "source": [
        "p1._person__name"
      ],
      "metadata": {
        "colab": {
          "base_uri": "https://localhost:8080/",
          "height": 36
        },
        "id": "SwUHHtZmmM4r",
        "outputId": "253e4d23-701c-466b-e5f0-d7a7a03a411e"
      },
      "execution_count": 19,
      "outputs": [
        {
          "output_type": "execute_result",
          "data": {
            "text/plain": [
              "'Chandrakat'"
            ],
            "application/vnd.google.colaboratory.intrinsic+json": {
              "type": "string"
            }
          },
          "metadata": {},
          "execution_count": 19
        }
      ]
    },
    {
      "cell_type": "code",
      "source": [
        "p1._person__surname"
      ],
      "metadata": {
        "colab": {
          "base_uri": "https://localhost:8080/",
          "height": 36
        },
        "id": "VCY9eXYt4QEq",
        "outputId": "77a4badc-a7a3-4398-d563-a49c4ab6f002"
      },
      "execution_count": 20,
      "outputs": [
        {
          "output_type": "execute_result",
          "data": {
            "text/plain": [
              "'Thakur'"
            ],
            "application/vnd.google.colaboratory.intrinsic+json": {
              "type": "string"
            }
          },
          "metadata": {},
          "execution_count": 20
        }
      ]
    },
    {
      "cell_type": "code",
      "source": [
        "p1.display(4,1)"
      ],
      "metadata": {
        "colab": {
          "base_uri": "https://localhost:8080/"
        },
        "id": "ofongyMj4T15",
        "outputId": "8ea7203e-c54b-4732-cea3-a1f5cc2780e0"
      },
      "execution_count": 22,
      "outputs": [
        {
          "output_type": "execute_result",
          "data": {
            "text/plain": [
              "2006"
            ]
          },
          "metadata": {},
          "execution_count": 22
        }
      ]
    },
    {
      "cell_type": "code",
      "source": [],
      "metadata": {
        "id": "18LrJQud4Vd1"
      },
      "execution_count": null,
      "outputs": []
    },
    {
      "cell_type": "markdown",
      "source": [
        "**All abstraction implemented in Single Code**"
      ],
      "metadata": {
        "id": "IbPT5JkE5u7n"
      }
    },
    {
      "cell_type": "code",
      "source": [
        "# Python program to demonstrate different members\n",
        "\n",
        "# Creating a Base class\n",
        "class Base:\n",
        "    def __init__(self):\n",
        "        self.a = \"Data_Science\"   # public member\n",
        "        self._b=\"Coding\"          # protected member\n",
        "        self.__c = \"Hiren\"   # private member\n",
        "\n",
        "# Creating a derived class\n",
        "class Derived(Base):\n",
        "    def __init__(self):\n",
        "\n",
        "# Calling constructor of Base class\n",
        "        Base.__init__(self)\n",
        "        print(\"Calling private member of base class: \")\n",
        "\n",
        "# uncomment the following line one by one and observe the difference\n",
        "        print('Call open variable',self.a)\n",
        "        print('call protected variable for API.',self._b)\n",
        "#         print('call double security variable',self.__c)"
      ],
      "metadata": {
        "id": "yYtg44QL5vXC"
      },
      "execution_count": 23,
      "outputs": []
    },
    {
      "cell_type": "code",
      "source": [
        "obj1 = Base()\n",
        "print(obj1.a)\n",
        "print(obj1._b)\n",
        "# print(obj1.__c)\n",
        "print(obj1._Base__c)"
      ],
      "metadata": {
        "colab": {
          "base_uri": "https://localhost:8080/"
        },
        "id": "jfYY42SH58Wu",
        "outputId": "9c3c7bbe-3d79-4a12-867b-57e99891952b"
      },
      "execution_count": 24,
      "outputs": [
        {
          "output_type": "stream",
          "name": "stdout",
          "text": [
            "Data_Science\n",
            "Coding\n",
            "Hiren\n"
          ]
        }
      ]
    },
    {
      "cell_type": "code",
      "source": [
        "obj2 = Derived()\n",
        "print(obj2.a)\n",
        "print(obj2._b)\n",
        "# print(obj2.__c)       # will raise an AttributeError\n",
        "# print(obj2._Derived__c) # will raise an AttributeError\n",
        "print(obj2._Base__c)"
      ],
      "metadata": {
        "colab": {
          "base_uri": "https://localhost:8080/"
        },
        "id": "yklMWmLd59-_",
        "outputId": "e53a274e-274d-4fee-c2ff-f4e7146b1876"
      },
      "execution_count": 25,
      "outputs": [
        {
          "output_type": "stream",
          "name": "stdout",
          "text": [
            "Calling private member of base class: \n",
            "Call open variable Data_Science\n",
            "call protected variable for API. Coding\n",
            "Data_Science\n",
            "Coding\n",
            "Hiren\n"
          ]
        }
      ]
    },
    {
      "cell_type": "code",
      "source": [],
      "metadata": {
        "id": "fHVuXAxS6SQf"
      },
      "execution_count": null,
      "outputs": []
    }
  ]
}