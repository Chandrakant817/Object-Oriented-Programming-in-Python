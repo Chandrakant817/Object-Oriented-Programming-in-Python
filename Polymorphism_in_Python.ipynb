{
  "nbformat": 4,
  "nbformat_minor": 0,
  "metadata": {
    "colab": {
      "provenance": []
    },
    "kernelspec": {
      "name": "python3",
      "display_name": "Python 3"
    },
    "language_info": {
      "name": "python"
    }
  },
  "cells": [
    {
      "cell_type": "markdown",
      "source": [
        "# **Polymorphism**"
      ],
      "metadata": {
        "id": "uFy5xRAIeo_3"
      }
    },
    {
      "cell_type": "markdown",
      "source": [
        "Polymorphism in Python is the ability of an object to take many forms. In simple words, polymorphism allows us to perform the same action in many different ways.\n",
        "\n",
        "For example, The built-in function len() calculates the length of an object depending upon its type. If an object is a string, it returns the count of characters, and If an object is a list, it returns the count of items in a list.\n",
        "\n",
        "The len() method treats an object as per its class type.\n",
        "\n",
        "![](https://i.imgur.com/B2EPPit.jpg)\n"
      ],
      "metadata": {
        "id": "_LZ_aOVleo87"
      }
    },
    {
      "cell_type": "markdown",
      "source": [
        "### **Simple Example w.r.t Polymorphism**"
      ],
      "metadata": {
        "id": "qVRtryd7cYHJ"
      }
    },
    {
      "cell_type": "code",
      "source": [
        "string_eg = 'Python'\n",
        "len(string_eg)"
      ],
      "metadata": {
        "colab": {
          "base_uri": "https://localhost:8080/"
        },
        "id": "gxpvBKnlbDBv",
        "outputId": "02a5928f-75c0-4c4f-beb9-51a655075c7c"
      },
      "execution_count": 1,
      "outputs": [
        {
          "output_type": "execute_result",
          "data": {
            "text/plain": [
              "6"
            ]
          },
          "metadata": {},
          "execution_count": 1
        }
      ]
    },
    {
      "cell_type": "code",
      "source": [
        "list_eg = ['Python', 'Angular', 'MySQL']\n",
        "len(list_eg)"
      ],
      "metadata": {
        "colab": {
          "base_uri": "https://localhost:8080/"
        },
        "id": "DXLWSU5AbC9h",
        "outputId": "82a67342-419c-4466-f0f3-ed8570e8a302"
      },
      "execution_count": 2,
      "outputs": [
        {
          "output_type": "execute_result",
          "data": {
            "text/plain": [
              "3"
            ]
          },
          "metadata": {},
          "execution_count": 2
        }
      ]
    },
    {
      "cell_type": "code",
      "source": [
        "dict_eg = {'name':'Python', 'type':'Programming'}\n",
        "len(dict_eg)"
      ],
      "metadata": {
        "colab": {
          "base_uri": "https://localhost:8080/"
        },
        "id": "SmLA4-EJbC4s",
        "outputId": "bf32d0f0-6ccf-4f75-ce25-2db78cdff416"
      },
      "execution_count": 3,
      "outputs": [
        {
          "output_type": "execute_result",
          "data": {
            "text/plain": [
              "2"
            ]
          },
          "metadata": {},
          "execution_count": 3
        }
      ]
    },
    {
      "cell_type": "code",
      "source": [
        "list_eg2 = ('Python', 'Angular', 'MySQL')\n",
        "len(list_eg2)"
      ],
      "metadata": {
        "colab": {
          "base_uri": "https://localhost:8080/"
        },
        "id": "dp8JIASjbOl6",
        "outputId": "c3be9319-fe5f-4abb-d201-ade6bb4b856e"
      },
      "execution_count": 5,
      "outputs": [
        {
          "output_type": "execute_result",
          "data": {
            "text/plain": [
              "3"
            ]
          },
          "metadata": {},
          "execution_count": 5
        }
      ]
    },
    {
      "cell_type": "markdown",
      "source": [
        "#### **Example 1**"
      ],
      "metadata": {
        "id": "S9Wg5HNJTvUE"
      }
    },
    {
      "cell_type": "code",
      "execution_count": null,
      "metadata": {
        "id": "25olNyk3ejtQ"
      },
      "outputs": [],
      "source": [
        "def test(a,b):\n",
        "  return a+b\n"
      ]
    },
    {
      "cell_type": "code",
      "source": [
        "# here simply we are concatenate the strings\n",
        "t1 = test(\"Chandrakat\",\"Thakur\")\n",
        "print(t1)"
      ],
      "metadata": {
        "colab": {
          "base_uri": "https://localhost:8080/"
        },
        "id": "uqOn5nkLSfCA",
        "outputId": "47373f72-3735-4336-c4ba-ba808eeaee70"
      },
      "execution_count": null,
      "outputs": [
        {
          "output_type": "stream",
          "name": "stdout",
          "text": [
            "ChandrakatThakur\n"
          ]
        }
      ]
    },
    {
      "cell_type": "code",
      "source": [
        "# performing Maths operation\n",
        "t1 = test(2,3)\n",
        "print(t1)"
      ],
      "metadata": {
        "colab": {
          "base_uri": "https://localhost:8080/"
        },
        "id": "6Xa6GYqoSt3k",
        "outputId": "d2d3b14d-449e-4e77-8af0-31a0fdb03e29"
      },
      "execution_count": null,
      "outputs": [
        {
          "output_type": "stream",
          "name": "stdout",
          "text": [
            "5\n"
          ]
        }
      ]
    },
    {
      "cell_type": "code",
      "source": [],
      "metadata": {
        "id": "8Hdp2BmoTHNC"
      },
      "execution_count": null,
      "outputs": []
    }
  ]
}